{
 "cells": [
  {
   "cell_type": "code",
   "execution_count": null,
   "id": "dfc9b15b-245f-4a23-bec6-29887e1081fa",
   "metadata": {},
   "outputs": [],
   "source": [
    "import torch\n",
    "from dataset_tool import compute_loudness, compute_centroid\n",
    "from IPython.display import Audio\n",
    "import pickle\n",
    "import librosa as li\n",
    "from noisebandnet.model import NoiseBandNet\n",
    "import torch.nn.functional as F\n",
    "import numpy as np\n",
    "import matplotlib.pyplot as plt\n",
    "import librosa.display"
   ]
  },
  {
   "cell_type": "code",
   "execution_count": null,
   "id": "4e706d0b-d772-436e-94b2-d92008c861bd",
   "metadata": {},
   "outputs": [],
   "source": [
    "device = 'cuda'\n",
    "\n",
    "TRAIN_PATH = 'trained_models/metal'\n",
    "MODEL_PATH = f'{TRAIN_PATH}/model_10000.ckpt'\n",
    "CONFIG_PATH = f'{TRAIN_PATH}/config.pickle'\n",
    "\n",
    "CONTROL_PARAM_PATH = 'inference_controls/control_metal_1.npy'"
   ]
  },
  {
   "cell_type": "code",
   "execution_count": null,
   "id": "3e56f296-a505-48d8-a7c0-5246802630c3",
   "metadata": {},
   "outputs": [],
   "source": [
    "with (open(CONFIG_PATH, \"rb\")) as f:\n",
    "    config = pickle.load(f)"
   ]
  },
  {
   "cell_type": "code",
   "execution_count": null,
   "id": "d0e80924-4eb4-44ff-90f1-0f2a09aaf344",
   "metadata": {},
   "outputs": [],
   "source": [
    "synth = NoiseBandNet(hidden_size=config.hidden_size, n_band=config.n_band, synth_window=config.synth_window, n_control_params=config.n_control_params).to(device).float()"
   ]
  },
  {
   "cell_type": "code",
   "execution_count": null,
   "id": "49831e13-d6b1-47a5-9419-86c1421c99a5",
   "metadata": {},
   "outputs": [],
   "source": [
    "synth.load_state_dict(torch.load(MODEL_PATH))"
   ]
  },
  {
   "cell_type": "code",
   "execution_count": null,
   "id": "9a79e569-e09c-4b2b-906f-0f4dd71713af",
   "metadata": {},
   "outputs": [],
   "source": [
    "control_param = np.load(CONTROL_PARAM_PATH)\n",
    "control_param = torch.from_numpy(control_param).unsqueeze(0).unsqueeze(0).float().to(device)\n",
    "control_param = [control_param.float().permute(0,2,1)]"
   ]
  },
  {
   "cell_type": "code",
   "execution_count": null,
   "id": "63b37e4e-c6cb-450a-97d7-a971193d07df",
   "metadata": {},
   "outputs": [],
   "source": [
    "with torch.no_grad():\n",
    "    y_audio = synth(control_params=control_param)\n",
    "Audio(y_audio[0][0].detach().cpu().numpy(), rate=config.sampling_rate)"
   ]
  },
  {
   "cell_type": "code",
   "execution_count": null,
   "id": "53ec3c5f-b7b0-4dd9-9c76-9ea0f27d397f",
   "metadata": {},
   "outputs": [],
   "source": [
    "fig, ax = plt.subplots()\n",
    "D = li.stft(y_audio[0][0].detach().cpu().numpy(), n_fft=1024, hop_length=256)\n",
    "S_db = li.amplitude_to_db(np.abs(D), ref=np.max)\n",
    "img = librosa.display.specshow(S_db, x_axis='time', y_axis='log', ax=ax, sr=config.sampling_rate, cmap='magma', hop_length=256)"
   ]
  }
 ],
 "metadata": {
  "kernelspec": {
   "display_name": "Python 3 (ipykernel)",
   "language": "python",
   "name": "python3"
  },
  "language_info": {
   "codemirror_mode": {
    "name": "ipython",
    "version": 3
   },
   "file_extension": ".py",
   "mimetype": "text/x-python",
   "name": "python",
   "nbconvert_exporter": "python",
   "pygments_lexer": "ipython3",
   "version": "3.9.17"
  }
 },
 "nbformat": 4,
 "nbformat_minor": 5
}
